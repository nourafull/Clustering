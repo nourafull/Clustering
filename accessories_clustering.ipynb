{
 "cells": [
  {
   "cell_type": "markdown",
   "metadata": {},
   "source": [
    "# Clustering the Accessories Dataset"
   ]
  },
  {
   "cell_type": "markdown",
   "metadata": {},
   "source": [
    "## Executive Summary:\n",
    "Tous Jewelry store is an inexpensive brand that sells a variety of items including rings, earrings, pendants. Items can be made of different materials including gold, silver, and titanium, as well as a variety of gymstones and crystals. In this case study, we would like to cluster the accessories dataset and find out the underlying pattern of the data. The data wa obtained via web scraping the official Tous website, and is available on Kaggle on the following link https://www.kaggle.com/arimaha/what-makes-a-best-seller-item. We used Hierarchical Clustering and obtained a Silhouette score of approximately 0.74.\n",
    "\n",
    "#### Research Question: \n",
    "We would like to know whether clustering the dataset would cluster them based on the item type. Therefore, we removed the columns corresponding to the item type before applying the clustering model, then we checked our clusters against the initial item types. \n",
    "\n",
    "#### Findings:\n",
    "The resulting clusters did not match the item types. Rather, the clusters demonstrated the different price ranges of the items. Moreover, one of the clusters detected outliers among the price feature. \n",
    "\n",
    "#### Future Work:\n",
    "Further research could be done exploring different clustring models. Also, we could try to remove the price since it is a strong feature, and check whether our model clusters the data differently making more use of the other features."
   ]
  },
  {
   "cell_type": "markdown",
   "metadata": {},
   "source": [
    "# 1- Import the dataset"
   ]
  },
  {
   "cell_type": "code",
   "execution_count": 61,
   "metadata": {
    "scrolled": true
   },
   "outputs": [
    {
     "data": {
      "text/html": [
       "<div>\n",
       "<style scoped>\n",
       "    .dataframe tbody tr th:only-of-type {\n",
       "        vertical-align: middle;\n",
       "    }\n",
       "\n",
       "    .dataframe tbody tr th {\n",
       "        vertical-align: top;\n",
       "    }\n",
       "\n",
       "    .dataframe thead th {\n",
       "        text-align: right;\n",
       "    }\n",
       "</style>\n",
       "<table border=\"1\" class=\"dataframe\">\n",
       "  <thead>\n",
       "    <tr style=\"text-align: right;\">\n",
       "      <th></th>\n",
       "      <th>ID</th>\n",
       "      <th>best_seller</th>\n",
       "      <th>price</th>\n",
       "      <th>image</th>\n",
       "      <th>bracelet</th>\n",
       "      <th>ring</th>\n",
       "      <th>necklace</th>\n",
       "      <th>earring</th>\n",
       "      <th>choker</th>\n",
       "      <th>pendant</th>\n",
       "      <th>...</th>\n",
       "      <th>sapphires</th>\n",
       "      <th>agate</th>\n",
       "      <th>quartzite</th>\n",
       "      <th>gemstones</th>\n",
       "      <th>spinel</th>\n",
       "      <th>onyx</th>\n",
       "      <th>gem_sum</th>\n",
       "      <th>diamonds</th>\n",
       "      <th>ruby</th>\n",
       "      <th>cry_sum</th>\n",
       "    </tr>\n",
       "  </thead>\n",
       "  <tbody>\n",
       "    <tr>\n",
       "      <th>0</th>\n",
       "      <td>0.0</td>\n",
       "      <td>1.0</td>\n",
       "      <td>SR485</td>\n",
       "      <td>['https://cdn.tous.com/media/catalog/product/c...</td>\n",
       "      <td>0.0</td>\n",
       "      <td>1.0</td>\n",
       "      <td>0.0</td>\n",
       "      <td>1.0</td>\n",
       "      <td>0.0</td>\n",
       "      <td>0.0</td>\n",
       "      <td>...</td>\n",
       "      <td>0.0</td>\n",
       "      <td>0.0</td>\n",
       "      <td>0.0</td>\n",
       "      <td>0.0</td>\n",
       "      <td>0.0</td>\n",
       "      <td>0.0</td>\n",
       "      <td>1.0</td>\n",
       "      <td>0.0</td>\n",
       "      <td>0.0</td>\n",
       "      <td>0.0</td>\n",
       "    </tr>\n",
       "    <tr>\n",
       "      <th>1</th>\n",
       "      <td>1.0</td>\n",
       "      <td>1.0</td>\n",
       "      <td>SR620</td>\n",
       "      <td>['https://cdn.tous.com/media/catalog/product/c...</td>\n",
       "      <td>0.0</td>\n",
       "      <td>1.0</td>\n",
       "      <td>0.0</td>\n",
       "      <td>1.0</td>\n",
       "      <td>0.0</td>\n",
       "      <td>0.0</td>\n",
       "      <td>...</td>\n",
       "      <td>0.0</td>\n",
       "      <td>0.0</td>\n",
       "      <td>0.0</td>\n",
       "      <td>0.0</td>\n",
       "      <td>0.0</td>\n",
       "      <td>0.0</td>\n",
       "      <td>1.0</td>\n",
       "      <td>0.0</td>\n",
       "      <td>0.0</td>\n",
       "      <td>0.0</td>\n",
       "    </tr>\n",
       "    <tr>\n",
       "      <th>2</th>\n",
       "      <td>2.0</td>\n",
       "      <td>1.0</td>\n",
       "      <td>SR370</td>\n",
       "      <td>['https://cdn.tous.com/media/catalog/product/c...</td>\n",
       "      <td>0.0</td>\n",
       "      <td>1.0</td>\n",
       "      <td>0.0</td>\n",
       "      <td>1.0</td>\n",
       "      <td>0.0</td>\n",
       "      <td>0.0</td>\n",
       "      <td>...</td>\n",
       "      <td>0.0</td>\n",
       "      <td>0.0</td>\n",
       "      <td>0.0</td>\n",
       "      <td>0.0</td>\n",
       "      <td>0.0</td>\n",
       "      <td>0.0</td>\n",
       "      <td>0.0</td>\n",
       "      <td>0.0</td>\n",
       "      <td>0.0</td>\n",
       "      <td>0.0</td>\n",
       "    </tr>\n",
       "    <tr>\n",
       "      <th>3</th>\n",
       "      <td>3.0</td>\n",
       "      <td>1.0</td>\n",
       "      <td>SR370</td>\n",
       "      <td>['https://cdn.tous.com/media/catalog/product/c...</td>\n",
       "      <td>0.0</td>\n",
       "      <td>0.0</td>\n",
       "      <td>0.0</td>\n",
       "      <td>0.0</td>\n",
       "      <td>0.0</td>\n",
       "      <td>1.0</td>\n",
       "      <td>...</td>\n",
       "      <td>0.0</td>\n",
       "      <td>0.0</td>\n",
       "      <td>0.0</td>\n",
       "      <td>0.0</td>\n",
       "      <td>0.0</td>\n",
       "      <td>0.0</td>\n",
       "      <td>0.0</td>\n",
       "      <td>0.0</td>\n",
       "      <td>0.0</td>\n",
       "      <td>0.0</td>\n",
       "    </tr>\n",
       "    <tr>\n",
       "      <th>4</th>\n",
       "      <td>4.0</td>\n",
       "      <td>1.0</td>\n",
       "      <td>SR1,300</td>\n",
       "      <td>['https://cdn.tous.com/media/catalog/product/c...</td>\n",
       "      <td>0.0</td>\n",
       "      <td>1.0</td>\n",
       "      <td>0.0</td>\n",
       "      <td>1.0</td>\n",
       "      <td>0.0</td>\n",
       "      <td>0.0</td>\n",
       "      <td>...</td>\n",
       "      <td>0.0</td>\n",
       "      <td>0.0</td>\n",
       "      <td>0.0</td>\n",
       "      <td>0.0</td>\n",
       "      <td>0.0</td>\n",
       "      <td>0.0</td>\n",
       "      <td>1.0</td>\n",
       "      <td>0.0</td>\n",
       "      <td>0.0</td>\n",
       "      <td>0.0</td>\n",
       "    </tr>\n",
       "  </tbody>\n",
       "</table>\n",
       "<p>5 rows × 44 columns</p>\n",
       "</div>"
      ],
      "text/plain": [
       "    ID  best_seller    price  \\\n",
       "0  0.0          1.0    SR485   \n",
       "1  1.0          1.0    SR620   \n",
       "2  2.0          1.0    SR370   \n",
       "3  3.0          1.0    SR370   \n",
       "4  4.0          1.0  SR1,300   \n",
       "\n",
       "                                               image  bracelet  ring  \\\n",
       "0  ['https://cdn.tous.com/media/catalog/product/c...       0.0   1.0   \n",
       "1  ['https://cdn.tous.com/media/catalog/product/c...       0.0   1.0   \n",
       "2  ['https://cdn.tous.com/media/catalog/product/c...       0.0   1.0   \n",
       "3  ['https://cdn.tous.com/media/catalog/product/c...       0.0   0.0   \n",
       "4  ['https://cdn.tous.com/media/catalog/product/c...       0.0   1.0   \n",
       "\n",
       "   necklace  earring  choker  pendant   ...     sapphires  agate  quartzite  \\\n",
       "0       0.0      1.0     0.0      0.0   ...           0.0    0.0        0.0   \n",
       "1       0.0      1.0     0.0      0.0   ...           0.0    0.0        0.0   \n",
       "2       0.0      1.0     0.0      0.0   ...           0.0    0.0        0.0   \n",
       "3       0.0      0.0     0.0      1.0   ...           0.0    0.0        0.0   \n",
       "4       0.0      1.0     0.0      0.0   ...           0.0    0.0        0.0   \n",
       "\n",
       "   gemstones  spinel  onyx  gem_sum  diamonds  ruby  cry_sum  \n",
       "0        0.0     0.0   0.0      1.0       0.0   0.0      0.0  \n",
       "1        0.0     0.0   0.0      1.0       0.0   0.0      0.0  \n",
       "2        0.0     0.0   0.0      0.0       0.0   0.0      0.0  \n",
       "3        0.0     0.0   0.0      0.0       0.0   0.0      0.0  \n",
       "4        0.0     0.0   0.0      1.0       0.0   0.0      0.0  \n",
       "\n",
       "[5 rows x 44 columns]"
      ]
     },
     "execution_count": 61,
     "metadata": {},
     "output_type": "execute_result"
    }
   ],
   "source": [
    "import pandas as pd\n",
    "df = pd.read_csv('dataset.csv')\n",
    "df.head()"
   ]
  },
  {
   "cell_type": "markdown",
   "metadata": {},
   "source": [
    "# 2- EDA"
   ]
  },
  {
   "cell_type": "markdown",
   "metadata": {},
   "source": [
    "### Clean the Price Column"
   ]
  },
  {
   "cell_type": "code",
   "execution_count": 62,
   "metadata": {},
   "outputs": [],
   "source": [
    "df.price = df.price.map(lambda x: x.replace('SR',''))\n",
    "df.price = df.price.map(lambda x: x.replace(',',''))\n",
    "df.price = df.price.astype(int)"
   ]
  },
  {
   "cell_type": "code",
   "execution_count": 63,
   "metadata": {},
   "outputs": [
    {
     "data": {
      "text/plain": [
       "count      337.000000\n",
       "mean      1137.264095\n",
       "std       1581.781216\n",
       "min        115.000000\n",
       "25%        410.000000\n",
       "50%        620.000000\n",
       "75%       1100.000000\n",
       "max      12400.000000\n",
       "Name: price, dtype: float64"
      ]
     },
     "execution_count": 63,
     "metadata": {},
     "output_type": "execute_result"
    }
   ],
   "source": [
    "df.price.describe()"
   ]
  },
  {
   "cell_type": "markdown",
   "metadata": {},
   "source": [
    "### Correcting the ring/earring issue\n",
    "after contacting the data publisher, I learned that there was a mistake with the web scraping process where it would return rings and earrings when scraping for rings, because the word ring is contained within the word earring"
   ]
  },
  {
   "cell_type": "code",
   "execution_count": 64,
   "metadata": {},
   "outputs": [],
   "source": [
    "df.loc[(df[\"ring\"]==1) & (df[\"earring\"]==1),\"ring\"] = 0"
   ]
  },
  {
   "cell_type": "markdown",
   "metadata": {},
   "source": [
    "### Create a new column for item types"
   ]
  },
  {
   "cell_type": "code",
   "execution_count": 65,
   "metadata": {},
   "outputs": [],
   "source": [
    "types = df.columns.values[4:10]"
   ]
  },
  {
   "cell_type": "code",
   "execution_count": 66,
   "metadata": {},
   "outputs": [
    {
     "data": {
      "text/plain": [
       "array(['bracelet', 'ring', 'necklace', 'earring', 'choker', 'pendant'],\n",
       "      dtype=object)"
      ]
     },
     "execution_count": 66,
     "metadata": {},
     "output_type": "execute_result"
    }
   ],
   "source": [
    "types"
   ]
  },
  {
   "cell_type": "code",
   "execution_count": 67,
   "metadata": {},
   "outputs": [],
   "source": [
    "def identify_item_type(row):\n",
    "    global types\n",
    "    for typ in types:\n",
    "        if row[typ] == 1:\n",
    "            return typ\n",
    "    return \"not identified\""
   ]
  },
  {
   "cell_type": "code",
   "execution_count": 68,
   "metadata": {},
   "outputs": [],
   "source": [
    "df['item_type'] = df.apply(identify_item_type, axis=1)"
   ]
  },
  {
   "cell_type": "markdown",
   "metadata": {},
   "source": [
    "### Create a new column for material type"
   ]
  },
  {
   "cell_type": "code",
   "execution_count": 69,
   "metadata": {},
   "outputs": [],
   "source": [
    "types = df.columns.values[11:19]"
   ]
  },
  {
   "cell_type": "code",
   "execution_count": 70,
   "metadata": {},
   "outputs": [
    {
     "data": {
      "text/plain": [
       "array(['gold', 'silver', 'white', 'titanium', 'ip', 'rose', 'steel',\n",
       "       'oxidized'], dtype=object)"
      ]
     },
     "execution_count": 70,
     "metadata": {},
     "output_type": "execute_result"
    }
   ],
   "source": [
    "types"
   ]
  },
  {
   "cell_type": "code",
   "execution_count": 71,
   "metadata": {},
   "outputs": [],
   "source": [
    "def identify_material_type(row):\n",
    "    global types\n",
    "    mat_type = []\n",
    "    for typ in types:\n",
    "        if row[typ] == 1:\n",
    "            mat_type.append(typ)\n",
    "    if len(mat_type) == 1:\n",
    "        return mat_type[0]\n",
    "    elif len(mat_type) >1:\n",
    "        return \"combination of materials\"\n",
    "    \n",
    "    return \"not identified\" "
   ]
  },
  {
   "cell_type": "code",
   "execution_count": 72,
   "metadata": {},
   "outputs": [],
   "source": [
    "df[\"item_material\"] = df.apply(identify_material_type, axis=1)"
   ]
  },
  {
   "cell_type": "code",
   "execution_count": 73,
   "metadata": {},
   "outputs": [
    {
     "data": {
      "text/plain": [
       "silver                      143\n",
       "combination of materials    110\n",
       "gold                         63\n",
       "steel                        14\n",
       "titanium                      6\n",
       "not identified                1\n",
       "Name: item_material, dtype: int64"
      ]
     },
     "execution_count": 73,
     "metadata": {},
     "output_type": "execute_result"
    }
   ],
   "source": [
    "df[\"item_material\"].value_counts()"
   ]
  },
  {
   "cell_type": "markdown",
   "metadata": {},
   "source": [
    "### Create a new column for Gemstone type"
   ]
  },
  {
   "cell_type": "code",
   "execution_count": 74,
   "metadata": {},
   "outputs": [],
   "source": [
    "types = df.columns.values[20:40]"
   ]
  },
  {
   "cell_type": "code",
   "execution_count": 75,
   "metadata": {},
   "outputs": [
    {
     "data": {
      "text/plain": [
       "array(['pearl', 'chalcedony', 'rhodonite', 'opal', 'beryllium',\n",
       "       'morganite', 'citrine', 'topaz', 'praseolite', 'carnelian',\n",
       "       'amethyst', 'malachite', 'amazonite', 'labradorite', 'sapphires',\n",
       "       'agate', 'quartzite', 'gemstones', 'spinel', 'onyx'], dtype=object)"
      ]
     },
     "execution_count": 75,
     "metadata": {},
     "output_type": "execute_result"
    }
   ],
   "source": [
    "types"
   ]
  },
  {
   "cell_type": "code",
   "execution_count": 76,
   "metadata": {},
   "outputs": [],
   "source": [
    "def identify_gemstone_type(row):\n",
    "    global types\n",
    "    gemstone_type = []\n",
    "    for typ in types:\n",
    "        if row[typ] == 1:\n",
    "            gemstone_type.append(typ)\n",
    "    if len(gemstone_type) == 1:\n",
    "        return gemstone_type[0]\n",
    "    elif len(gemstone_type) >1:\n",
    "        return \"gemstones\"\n",
    "    \n",
    "    return \"no gemstone\""
   ]
  },
  {
   "cell_type": "code",
   "execution_count": 77,
   "metadata": {},
   "outputs": [],
   "source": [
    "df[\"item_gemstone\"] = df.apply(identify_gemstone_type, axis=1)"
   ]
  },
  {
   "cell_type": "code",
   "execution_count": 78,
   "metadata": {},
   "outputs": [
    {
     "data": {
      "text/plain": [
       "no gemstone    199\n",
       "pearl           57\n",
       "gemstones       40\n",
       "onyx            17\n",
       "topaz            7\n",
       "spinel           6\n",
       "amethyst         3\n",
       "amazonite        3\n",
       "quartzite        2\n",
       "sapphires        1\n",
       "agate            1\n",
       "malachite        1\n",
       "Name: item_gemstone, dtype: int64"
      ]
     },
     "execution_count": 78,
     "metadata": {},
     "output_type": "execute_result"
    }
   ],
   "source": [
    "df[\"item_gemstone\"].value_counts()"
   ]
  },
  {
   "cell_type": "markdown",
   "metadata": {},
   "source": [
    "### Create a new column for Crystal type"
   ]
  },
  {
   "cell_type": "code",
   "execution_count": 79,
   "metadata": {},
   "outputs": [],
   "source": [
    "types = df.columns.values[41:43]"
   ]
  },
  {
   "cell_type": "code",
   "execution_count": 80,
   "metadata": {},
   "outputs": [
    {
     "data": {
      "text/plain": [
       "array(['diamonds', 'ruby'], dtype=object)"
      ]
     },
     "execution_count": 80,
     "metadata": {},
     "output_type": "execute_result"
    }
   ],
   "source": [
    "types"
   ]
  },
  {
   "cell_type": "code",
   "execution_count": 81,
   "metadata": {},
   "outputs": [],
   "source": [
    "def identify_crystal_type(row):\n",
    "    global types\n",
    "    crystal_type = []\n",
    "    for typ in types:\n",
    "        if row[typ] == 1:\n",
    "            crystal_type.append(typ)\n",
    "    if len(crystal_type) == 1:\n",
    "        return crystal_type[0]\n",
    "    elif len(crystal_type) >1:\n",
    "        return \"combination of crystals\"\n",
    "    \n",
    "    return \"no crystal\""
   ]
  },
  {
   "cell_type": "code",
   "execution_count": 82,
   "metadata": {},
   "outputs": [],
   "source": [
    "df[\"item_crystal\"] = df.apply(identify_crystal_type, axis=1)"
   ]
  },
  {
   "cell_type": "code",
   "execution_count": 83,
   "metadata": {},
   "outputs": [
    {
     "data": {
      "text/plain": [
       "no crystal    294\n",
       "diamonds       24\n",
       "ruby           19\n",
       "Name: item_crystal, dtype: int64"
      ]
     },
     "execution_count": 83,
     "metadata": {},
     "output_type": "execute_result"
    }
   ],
   "source": [
    "df[\"item_crystal\"].value_counts()"
   ]
  },
  {
   "cell_type": "markdown",
   "metadata": {},
   "source": [
    "### Create a new dataframe with the needed columns only"
   ]
  },
  {
   "cell_type": "code",
   "execution_count": 84,
   "metadata": {},
   "outputs": [],
   "source": [
    "new_df = df[['best_seller', 'price','item_type', 'item_material','item_gemstone', 'item_crystal']]"
   ]
  },
  {
   "cell_type": "markdown",
   "metadata": {},
   "source": [
    "## Visualization"
   ]
  },
  {
   "cell_type": "code",
   "execution_count": 85,
   "metadata": {},
   "outputs": [],
   "source": [
    "import matplotlib.pyplot as plt\n",
    "import seaborn as sns"
   ]
  },
  {
   "cell_type": "markdown",
   "metadata": {},
   "source": [
    "### Item type vs Price"
   ]
  },
  {
   "cell_type": "code",
   "execution_count": 86,
   "metadata": {},
   "outputs": [
    {
     "data": {
      "image/png": "[encoded data removed]",
      "text/plain": [
       "<Figure size 864x864 with 1 Axes>"
      ]
     },
     "metadata": {},
     "output_type": "display_data"
    }
   ],
   "source": [
    "plt.figure(figsize=(12,12))\n",
    "sns.scatterplot(x=\"item_type\",y=\"price\",hue='best_seller',data=new_df);"
   ]
  },
  {
   "cell_type": "markdown",
   "metadata": {},
   "source": [
    "from the plot above, we can see that necklaces have the highest prices, followed by rings. Bracelets have the lowest prices. Best sellers tend to be lower-price"
   ]
  },
  {
   "cell_type": "markdown",
   "metadata": {},
   "source": [
    "### Price vs item features (material, crystal, gemstones)"
   ]
  },
  {
   "cell_type": "code",
   "execution_count": 87,
   "metadata": {},
   "outputs": [
    {
     "data": {
      "image/png": "[encoded data removed]",
      "text/plain": [
       "<Figure size 1296x360 with 3 Axes>"
      ]
     },
     "metadata": {},
     "output_type": "display_data"
    }
   ],
   "source": [
    "plt.figure(figsize=(18,5))\n",
    "plt.subplot(1,3,1)\n",
    "sns.scatterplot(x=\"price\",y=\"item_material\",hue='best_seller',data=new_df)\n",
    "plt.yticks(rotation=30)\n",
    "plt.subplot(1,3,2)\n",
    "sns.scatterplot(x=\"price\",y=\"item_crystal\",hue='best_seller',data=new_df)\n",
    "plt.yticks(rotation=30)\n",
    "plt.subplot(1,3,3)\n",
    "sns.scatterplot(x=\"price\",y=\"item_gemstone\",hue='best_seller',data=new_df)\n",
    "plt.yticks(rotation=30)\n",
    "plt.subplots_adjust(wspace=0.8);"
   ]
  },
  {
   "cell_type": "markdown",
   "metadata": {},
   "source": [
    "Silver and steel items are the materials with the lowest prices, followed by titanium, although a few titanium items are about mid-range priced.\n",
    "Items with Quartize and Amazonite gemstones tend to be best sellers."
   ]
  },
  {
   "cell_type": "markdown",
   "metadata": {},
   "source": [
    "### Price vs Best Seller"
   ]
  },
  {
   "cell_type": "code",
   "execution_count": 88,
   "metadata": {},
   "outputs": [
    {
     "data": {
      "image/png": "[encoded data removed]",
      "text/plain": [
       "<Figure size 216x216 with 1 Axes>"
      ]
     },
     "metadata": {},
     "output_type": "display_data"
    }
   ],
   "source": [
    "plt.figure(figsize=(3,3))\n",
    "sns.scatterplot(x=\"price\",y=\"best_seller\",data=new_df);"
   ]
  },
  {
   "cell_type": "markdown",
   "metadata": {},
   "source": [
    "We can clearly see from the plot above that best sellers are items with lower prices (below 2000)"
   ]
  },
  {
   "cell_type": "markdown",
   "metadata": {},
   "source": [
    "-------------------------------------------------------------------------------------------------------------------------"
   ]
  },
  {
   "cell_type": "markdown",
   "metadata": {},
   "source": [
    "We will remove the item type column before clustering, then we will check our clusters to see if they correspond to the item types"
   ]
  },
  {
   "cell_type": "code",
   "execution_count": 89,
   "metadata": {},
   "outputs": [],
   "source": [
    "categorical_df = new_df.copy()"
   ]
  },
  {
   "cell_type": "code",
   "execution_count": 90,
   "metadata": {},
   "outputs": [
    {
     "name": "stderr",
     "output_type": "stream",
     "text": [
      "C:\\Users\\noura\\Anaconda3\\lib\\site-packages\\pandas\\core\\frame.py:3694: SettingWithCopyWarning: \n",
      "A value is trying to be set on a copy of a slice from a DataFrame\n",
      "\n",
      "See the caveats in the documentation: http://pandas.pydata.org/pandas-docs/stable/indexing.html#indexing-view-versus-copy\n",
      "  errors=errors)\n"
     ]
    }
   ],
   "source": [
    "new_df.drop('item_type',axis=1,inplace=True)"
   ]
  },
  {
   "cell_type": "code",
   "execution_count": 91,
   "metadata": {},
   "outputs": [
    {
     "data": {
      "text/html": [
       "<div>\n",
       "<style scoped>\n",
       "    .dataframe tbody tr th:only-of-type {\n",
       "        vertical-align: middle;\n",
       "    }\n",
       "\n",
       "    .dataframe tbody tr th {\n",
       "        vertical-align: top;\n",
       "    }\n",
       "\n",
       "    .dataframe thead th {\n",
       "        text-align: right;\n",
       "    }\n",
       "</style>\n",
       "<table border=\"1\" class=\"dataframe\">\n",
       "  <thead>\n",
       "    <tr style=\"text-align: right;\">\n",
       "      <th></th>\n",
       "      <th>best_seller</th>\n",
       "      <th>price</th>\n",
       "      <th>item_material</th>\n",
       "      <th>item_gemstone</th>\n",
       "      <th>item_crystal</th>\n",
       "    </tr>\n",
       "  </thead>\n",
       "  <tbody>\n",
       "    <tr>\n",
       "      <th>0</th>\n",
       "      <td>1.0</td>\n",
       "      <td>485</td>\n",
       "      <td>silver</td>\n",
       "      <td>pearl</td>\n",
       "      <td>no crystal</td>\n",
       "    </tr>\n",
       "    <tr>\n",
       "      <th>1</th>\n",
       "      <td>1.0</td>\n",
       "      <td>620</td>\n",
       "      <td>silver</td>\n",
       "      <td>pearl</td>\n",
       "      <td>no crystal</td>\n",
       "    </tr>\n",
       "    <tr>\n",
       "      <th>2</th>\n",
       "      <td>1.0</td>\n",
       "      <td>370</td>\n",
       "      <td>silver</td>\n",
       "      <td>no gemstone</td>\n",
       "      <td>no crystal</td>\n",
       "    </tr>\n",
       "    <tr>\n",
       "      <th>3</th>\n",
       "      <td>1.0</td>\n",
       "      <td>370</td>\n",
       "      <td>silver</td>\n",
       "      <td>no gemstone</td>\n",
       "      <td>no crystal</td>\n",
       "    </tr>\n",
       "    <tr>\n",
       "      <th>4</th>\n",
       "      <td>1.0</td>\n",
       "      <td>1300</td>\n",
       "      <td>gold</td>\n",
       "      <td>pearl</td>\n",
       "      <td>no crystal</td>\n",
       "    </tr>\n",
       "  </tbody>\n",
       "</table>\n",
       "</div>"
      ],
      "text/plain": [
       "   best_seller  price item_material item_gemstone item_crystal\n",
       "0          1.0    485        silver         pearl   no crystal\n",
       "1          1.0    620        silver         pearl   no crystal\n",
       "2          1.0    370        silver   no gemstone   no crystal\n",
       "3          1.0    370        silver   no gemstone   no crystal\n",
       "4          1.0   1300          gold         pearl   no crystal"
      ]
     },
     "execution_count": 91,
     "metadata": {},
     "output_type": "execute_result"
    }
   ],
   "source": [
    "new_df.head()"
   ]
  },
  {
   "cell_type": "code",
   "execution_count": 92,
   "metadata": {},
   "outputs": [],
   "source": [
    "new_df = pd.get_dummies(new_df)"
   ]
  },
  {
   "cell_type": "markdown",
   "metadata": {},
   "source": [
    "## Scaling the data"
   ]
  },
  {
   "cell_type": "code",
   "execution_count": 93,
   "metadata": {},
   "outputs": [],
   "source": [
    "from sklearn.preprocessing import StandardScaler \n",
    "ss = StandardScaler()\n",
    "Xs = ss.fit_transform(new_df)"
   ]
  },
  {
   "cell_type": "markdown",
   "metadata": {},
   "source": [
    "# 3- Build a Clustering Model"
   ]
  },
  {
   "cell_type": "markdown",
   "metadata": {},
   "source": [
    "Since we have a small dataset, we will create a dendogram to see the hierarchy of the dataset and choose an appropriate number of clusters based on the dendogram. "
   ]
  },
  {
   "cell_type": "markdown",
   "metadata": {},
   "source": [
    "## Create a Dendogram"
   ]
  },
  {
   "cell_type": "code",
   "execution_count": 94,
   "metadata": {},
   "outputs": [],
   "source": [
    "from scipy.cluster.hierarchy import dendrogram, linkage  \n",
    "from matplotlib import pyplot as plt"
   ]
  },
  {
   "cell_type": "code",
   "execution_count": 95,
   "metadata": {},
   "outputs": [],
   "source": [
    "linked = linkage(new_df, 'ward')"
   ]
  },
  {
   "cell_type": "code",
   "execution_count": 96,
   "metadata": {},
   "outputs": [
    {
     "data": {
      "image/png": "[encoded data removed]",
      "text/plain": [
       "<Figure size 720x504 with 1 Axes>"
      ]
     },
     "metadata": {},
     "output_type": "display_data"
    }
   ],
   "source": [
    "plt.figure(figsize=(10, 7))  \n",
    "dendrogram(linked)\n",
    "plt.show() "
   ]
  },
  {
   "cell_type": "markdown",
   "metadata": {},
   "source": [
    "## build a Hierarchical Clustering Model"
   ]
  },
  {
   "cell_type": "markdown",
   "metadata": {},
   "source": [
    "According to the dendogram, we could go with 5 or 8 clusters. Considering the number of item types (we have 6 item types), I chose to go with 5 clusters. This is an initial choice, we could also change the number of clusters after testing 5 clusters."
   ]
  },
  {
   "cell_type": "code",
   "execution_count": 97,
   "metadata": {},
   "outputs": [],
   "source": [
    "from sklearn.cluster import AgglomerativeClustering"
   ]
  },
  {
   "cell_type": "code",
   "execution_count": 98,
   "metadata": {},
   "outputs": [],
   "source": [
    "ward = AgglomerativeClustering(n_clusters=5,linkage='ward')\n",
    "ward_pred = ward.fit_predict(new_df)"
   ]
  },
  {
   "cell_type": "code",
   "execution_count": 99,
   "metadata": {},
   "outputs": [],
   "source": [
    "new_df['cluster'] = ward_pred"
   ]
  },
  {
   "cell_type": "code",
   "execution_count": 100,
   "metadata": {
    "scrolled": true
   },
   "outputs": [
    {
     "data": {
      "text/plain": [
       "2    257\n",
       "0     57\n",
       "1     15\n",
       "3      6\n",
       "4      2\n",
       "Name: cluster, dtype: int64"
      ]
     },
     "execution_count": 100,
     "metadata": {},
     "output_type": "execute_result"
    }
   ],
   "source": [
    "new_df.cluster.value_counts()"
   ]
  },
  {
   "cell_type": "markdown",
   "metadata": {},
   "source": [
    "# 4- Evaluating and Interpreting the Results"
   ]
  },
  {
   "cell_type": "markdown",
   "metadata": {},
   "source": [
    "## Clustering Evaluation Metrics"
   ]
  },
  {
   "cell_type": "markdown",
   "metadata": {},
   "source": [
    "According to the literature, silhouette is a more robust evaluation metric than inertia. The Silhoutte takes a range of values from -1 to 1, with 1 being the best case. Our model scored approximatly 0.74, therefore it seems that we have a good model."
   ]
  },
  {
   "cell_type": "code",
   "execution_count": 101,
   "metadata": {},
   "outputs": [],
   "source": [
    "from sklearn.metrics import silhouette_score"
   ]
  },
  {
   "cell_type": "code",
   "execution_count": 102,
   "metadata": {},
   "outputs": [],
   "source": [
    "labels = ward.labels_"
   ]
  },
  {
   "cell_type": "code",
   "execution_count": 103,
   "metadata": {},
   "outputs": [
    {
     "data": {
      "text/plain": [
       "0.7374161038969308"
      ]
     },
     "execution_count": 103,
     "metadata": {},
     "output_type": "execute_result"
    }
   ],
   "source": [
    "silhouette_score(new_df, labels, metric='euclidean')"
   ]
  },
  {
   "cell_type": "markdown",
   "metadata": {},
   "source": [
    "## Visualizing the Results of Clustering"
   ]
  },
  {
   "cell_type": "markdown",
   "metadata": {},
   "source": [
    "Our dataset is small enough that we can visually inspect and evaluate our clusters. "
   ]
  },
  {
   "cell_type": "markdown",
   "metadata": {},
   "source": [
    "### Clusters vs Price"
   ]
  },
  {
   "cell_type": "code",
   "execution_count": 104,
   "metadata": {},
   "outputs": [
    {
     "data": {
      "image/png": "[encoded data removed]",
      "text/plain": [
       "<Figure size 360x360 with 1 Axes>"
      ]
     },
     "metadata": {},
     "output_type": "display_data"
    }
   ],
   "source": [
    "plt.figure(figsize=(5,5))\n",
    "sns.scatterplot(new_df.price, new_df.cluster, alpha=0.1);"
   ]
  },
  {
   "cell_type": "markdown",
   "metadata": {},
   "source": [
    "According to the plot above, the five clusters seem to reflect price ranges from low to high in the following order from lowest to highest prices:\n",
    "\n",
    "cluster 2 - cluster 0 - cluster 1 - cluster 3 - cluster 4\n",
    "\n",
    "There is almost no overlap between the five clusters in terms of price.\n",
    "Cluster 2 has the darkest/most intense color because it is the largest cluster. Cluster 4 has the lightest color because it is the smallest cluster (only 2 observations)"
   ]
  },
  {
   "cell_type": "markdown",
   "metadata": {},
   "source": [
    "### Clusters vs Item Types"
   ]
  },
  {
   "cell_type": "markdown",
   "metadata": {},
   "source": [
    "We would like to check our clusters against our original item types (bracelet, earring, pendant ..), therefore we will use our previously created categorical_df dataframe and add to it a column with the cluster number."
   ]
  },
  {
   "cell_type": "code",
   "execution_count": 48,
   "metadata": {},
   "outputs": [],
   "source": [
    "categorical_df['cluster'] = new_df.cluster"
   ]
  },
  {
   "cell_type": "code",
   "execution_count": 56,
   "metadata": {},
   "outputs": [
    {
     "data": {
      "image/png": "[encoded data removed]",
      "text/plain": [
       "<Figure size 504x360 with 1 Axes>"
      ]
     },
     "metadata": {},
     "output_type": "display_data"
    }
   ],
   "source": [
    "plt.figure(figsize=(7,5))\n",
    "sns.scatterplot(categorical_df.item_type, categorical_df.cluster, alpha=0.1)\n",
    "plt.xticks(rotation=30);"
   ]
  },
  {
   "cell_type": "markdown",
   "metadata": {},
   "source": [
    "most of the items types belong to all clusters. \n",
    "We Can see that Necklaces are the only items that belong to cluster 4. They are also the only item type that includes items that are highly priced. \n",
    "Bracelets belong only to clusters 0 and 2. They are also the lowest priced items according to our EDA. Again, the intensity of the color reflects the number of observations in a cluster. Cluster 2 is the largest cluster, therefore it has the darkest color on the plot. This is because most items of the brand are within that price range (below 1000) because Tous is a relatively inexpensive brand.\n",
    "\n",
    "Consistent with the previous plot, the clusters indicate the price range of the items. However, looking at the item type, we do not see any pattern other than the price."
   ]
  },
  {
   "cell_type": "markdown",
   "metadata": {},
   "source": [
    "### Clusters vs Item Materials "
   ]
  },
  {
   "cell_type": "code",
   "execution_count": 55,
   "metadata": {},
   "outputs": [
    {
     "data": {
      "image/png": "[encoded data removed]",
      "text/plain": [
       "<Figure size 504x360 with 1 Axes>"
      ]
     },
     "metadata": {},
     "output_type": "display_data"
    }
   ],
   "source": [
    "plt.figure(figsize=(7,5))\n",
    "sns.scatterplot(categorical_df.item_material, categorical_df.cluster, alpha=0.1)\n",
    "plt.xticks(rotation=30);"
   ]
  },
  {
   "cell_type": "markdown",
   "metadata": {},
   "source": [
    "most of the material types belong to all clusters. The only materials that belong to one or two clusters are silver steel which belong to the clusters 0 and 2. Silver and steel are also the lowest priced items. Titanium belongs to clusters 0 and 1, recall that titanium's price range was low to medium price range.\n",
    "\n",
    "This further contributes to our observation that the clusters are formed around the price."
   ]
  },
  {
   "cell_type": "markdown",
   "metadata": {},
   "source": [
    "### Clusters vs Best Sellers"
   ]
  },
  {
   "cell_type": "code",
   "execution_count": 58,
   "metadata": {},
   "outputs": [
    {
     "data": {
      "image/png": "[encoded data removed]",
      "text/plain": [
       "<Figure size 288x288 with 1 Axes>"
      ]
     },
     "metadata": {},
     "output_type": "display_data"
    }
   ],
   "source": [
    "plt.figure(figsize=(4,4))\n",
    "sns.scatterplot(categorical_df.best_seller, categorical_df.cluster, alpha=0.1);"
   ]
  },
  {
   "cell_type": "markdown",
   "metadata": {},
   "source": [
    "According to our EDA, best sellers are lower priced items. As we can see in the plot above, best sellers are found in clusters 0 and 2, which are the clusters we identified indicating lower prices. Again this is consistent with our finding that the clusters basically indicate the prices of the items."
   ]
  },
  {
   "cell_type": "markdown",
   "metadata": {},
   "source": [
    "## Detecting Outliers"
   ]
  },
  {
   "cell_type": "markdown",
   "metadata": {},
   "source": [
    "Our clustering process has actually detected outliers within the dataset. Cluster number 4 represents the two most expensive items in our dataset. Our dataset has a median of 620 SR. 75% of the dataset is between 115 and 1100 SR. The two observations in cluster 4 are both above 12000 SR."
   ]
  },
  {
   "cell_type": "code",
   "execution_count": 52,
   "metadata": {},
   "outputs": [
    {
     "data": {
      "text/plain": [
       "225    12400\n",
       "226    12200\n",
       "Name: price, dtype: int32"
      ]
     },
     "execution_count": 52,
     "metadata": {},
     "output_type": "execute_result"
    }
   ],
   "source": [
    "categorical_df.price[categorical_df.cluster==4]"
   ]
  },
  {
   "cell_type": "code",
   "execution_count": 53,
   "metadata": {},
   "outputs": [
    {
     "data": {
      "text/plain": [
       "620.0"
      ]
     },
     "execution_count": 53,
     "metadata": {},
     "output_type": "execute_result"
    }
   ],
   "source": [
    "categorical_df.price.median()"
   ]
  },
  {
   "cell_type": "code",
   "execution_count": 54,
   "metadata": {},
   "outputs": [
    {
     "data": {
      "text/plain": [
       "count      337.000000\n",
       "mean      1137.264095\n",
       "std       1581.781216\n",
       "min        115.000000\n",
       "25%        410.000000\n",
       "50%        620.000000\n",
       "75%       1100.000000\n",
       "max      12400.000000\n",
       "Name: price, dtype: float64"
      ]
     },
     "execution_count": 54,
     "metadata": {},
     "output_type": "execute_result"
    }
   ],
   "source": [
    "categorical_df.price.describe()"
   ]
  },
  {
   "cell_type": "markdown",
   "metadata": {},
   "source": [
    "# 5- Conclusions"
   ]
  },
  {
   "cell_type": "markdown",
   "metadata": {},
   "source": [
    "In this case study, we used hierarchical clustering to cluster the Tous accessories dataset and find the underlying pattern of the data. We obtained a Silhouette score of approximately 0.74, which indicates that our model is performing well. We wanted to find out whether clustering the dataset would cluster them based on the item type. Therefore, we removed the columns corresponding to the item type before applying the clustering model, then we checked our clusters against the initial item types. The resulting clusters did not match the item types. Rather, the clusters demonstrated the different price ranges of the items. Moreover, one of the clusters detected outliers among the price feature.\n",
    "\n",
    "### Future Work:\n",
    "Further research could be done exploring different clustring models and different number of clusters. Also, we could try to remove the price since it is a strong feature, and check whether our model clusters the data differently making more use of the other features."
   ]
  },
  {
   "cell_type": "code",
   "execution_count": null,
   "metadata": {},
   "outputs": [],
   "source": []
  }
 ],
 "metadata": {
  "kernelspec": {
   "display_name": "Python 3",
   "language": "python",
   "name": "python3"
  },
  "language_info": {
   "codemirror_mode": {
    "name": "ipython",
    "version": 3
   },
   "file_extension": ".py",
   "mimetype": "text/x-python",
   "name": "python",
   "nbconvert_exporter": "python",
   "pygments_lexer": "ipython3",
   "version": "3.6.5"
  }
 },
 "nbformat": 4,
 "nbformat_minor": 2
}
